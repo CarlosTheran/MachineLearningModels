{
 "cells": [
  {
   "cell_type": "code",
   "execution_count": 1,
   "metadata": {},
   "outputs": [],
   "source": [
    "import matplotlib.pyplot as plt\n",
    "from sklearn.datasets import make_blobs\n",
    "from sklearn.cluster import KMeans\n",
    "from sklearn.preprocessing import StandardScaler\n",
    "from sklearn.metrics import silhouette_score"
   ]
  },
  {
   "cell_type": "code",
   "execution_count": 3,
   "metadata": {},
   "outputs": [],
   "source": [
    "# generate the data using make_blods(), a convience function in sckit-learn to generate synthetic cluster\n",
    "features, true_labes = make_blobs(n_samples = 200, centers= 3, cluster_std = 2.75, random_state = 42)"
   ]
  },
  {
   "cell_type": "code",
   "execution_count": 5,
   "metadata": {},
   "outputs": [
    {
     "name": "stdout",
     "output_type": "stream",
     "text": [
      "[[  9.77075874   3.27621022]\n",
      " [ -9.71349666  11.27451802]\n",
      " [ -6.91330582  -9.34755911]\n",
      " [-10.86185913 -10.75063497]\n",
      " [ -8.50038027  -4.54370383]]\n",
      "[1 0 2 2 2]\n"
     ]
    }
   ],
   "source": [
    "# Printing five elements for each of the variable returned by make_blobs.\n",
    "print(features[:5])\n",
    "print(true_labes[:5])"
   ]
  },
  {
   "cell_type": "code",
   "execution_count": 7,
   "metadata": {},
   "outputs": [
    {
     "name": "stdout",
     "output_type": "stream",
     "text": [
      "[[ 2.13082109  0.25604351]\n",
      " [-1.52698523  1.41036744]\n",
      " [-1.00130152 -1.56583175]\n",
      " [-1.74256891 -1.76832509]\n",
      " [-1.29924521 -0.87253446]]\n"
     ]
    }
   ],
   "source": [
    "# The values for all features must be transformed to the same scale,\n",
    "# the process of transforming numerical features to use the same scale is known as features scaling or normalizing the data.\n",
    "scaler = StandardScaler()\n",
    "scaled_features = scaler.fit_transform(features)\n",
    "print(scaled_features[:5])"
   ]
  },
  {
   "cell_type": "code",
   "execution_count": null,
   "metadata": {},
   "outputs": [],
   "source": [
    "# Initiate the Kmeans class\n"
   ]
  }
 ],
 "metadata": {
  "interpreter": {
   "hash": "321a562c32c1ef0f4d1bce6724f96cbf5562b75820608d2935414fe72bdf9c83"
  },
  "kernelspec": {
   "display_name": "Python 3.9.2 64-bit",
   "name": "python3"
  },
  "language_info": {
   "codemirror_mode": {
    "name": "ipython",
    "version": 3
   },
   "file_extension": ".py",
   "mimetype": "text/x-python",
   "name": "python",
   "nbconvert_exporter": "python",
   "pygments_lexer": "ipython3",
   "version": "3.9.2"
  },
  "orig_nbformat": 4
 },
 "nbformat": 4,
 "nbformat_minor": 2
}
