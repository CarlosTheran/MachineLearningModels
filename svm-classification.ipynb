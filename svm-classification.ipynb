{
 "cells": [
  {
   "cell_type": "code",
   "execution_count": 1,
   "metadata": {},
   "outputs": [],
   "source": [
    "import numpy as np\n",
    "import matplotlib.pyplot as plt\n",
    "from sklearn import svm, datasets"
   ]
  },
  {
   "cell_type": "code",
   "execution_count": 2,
   "metadata": {},
   "outputs": [],
   "source": [
    "# import some data to play with\n",
    "iris = datasets.load_iris()\n",
    "x = iris.data[:,:2] # we ony take the first two features\n",
    "y = iris.target"
   ]
  },
  {
   "cell_type": "code",
   "execution_count": 3,
   "metadata": {},
   "outputs": [],
   "source": [
    "# we create an instance of SVM and fit out data. \n",
    "C = 1.0 # SVM regularization paramerter\n",
    "svc = svm.SVC(kernel='linear', C=1, gamma= 'auto').fit(x,y)"
   ]
  },
  {
   "cell_type": "code",
   "execution_count": 7,
   "metadata": {},
   "outputs": [],
   "source": [
    "# create a mesh to plot in\n",
    "x_min, x_max = x[:,0].min() - 1, x[:,0].max() + 1\n",
    "y_min, y_max = x[:,1].min() - 1, x[:,1].max() + 1\n",
    "h = (x_max/x_min)/100\n",
    "xx, yy = np.meshgrid(np.arange(x_min,x_max,h), np.arange(y_min, y_max, h)) "
   ]
  },
  {
   "cell_type": "code",
   "execution_count": null,
   "metadata": {},
   "outputs": [],
   "source": []
  }
 ],
 "metadata": {
  "interpreter": {
   "hash": "321a562c32c1ef0f4d1bce6724f96cbf5562b75820608d2935414fe72bdf9c83"
  },
  "kernelspec": {
   "display_name": "Python 3.9.2 64-bit",
   "name": "python3"
  },
  "language_info": {
   "codemirror_mode": {
    "name": "ipython",
    "version": 3
   },
   "file_extension": ".py",
   "mimetype": "text/x-python",
   "name": "python",
   "nbconvert_exporter": "python",
   "pygments_lexer": "ipython3",
   "version": "3.9.2"
  },
  "orig_nbformat": 4
 },
 "nbformat": 4,
 "nbformat_minor": 2
}
